{
 "cells": [
  {
   "cell_type": "code",
   "execution_count": 1,
   "metadata": {},
   "outputs": [
    {
     "name": "stdout",
     "output_type": "stream",
     "text": [
      "Collecting opencv-python\n",
      "  Downloading https://files.pythonhosted.org/packages/79/79/191a56ec4c91b3f4db0ab2440437059daab2f49e4d87ee50e4dd00c1062d/opencv_python-4.3.0.36-cp37-cp37m-win_amd64.whl (33.4MB)\n",
      "Requirement already satisfied: numpy>=1.14.5 in c:\\programdata\\anaconda3\\lib\\site-packages (from opencv-python) (1.16.4)\n",
      "Installing collected packages: opencv-python\n",
      "Successfully installed opencv-python-4.3.0.36\n"
     ]
    }
   ],
   "source": [
    "!pip install opencv-python"
   ]
  },
  {
   "cell_type": "code",
   "execution_count": 16,
   "metadata": {},
   "outputs": [],
   "source": [
    "import cv2\n",
    "#Opening my webcam\n",
    "cap= cv2.VideoCapture(0)\n",
    "#reading from webcam when it is opened\n",
    "while cap.isOpened():\n",
    "    ret, back = cap.read() \n",
    "#if reading, then capture a background image\n",
    "    if ret:\n",
    "        cv2.imshow(\"pic\", back)\n",
    "        if cv2.waitKey(5) == ord('q'):\n",
    " #saving the image\n",
    "            cv2.imwrite('capture.jpg', back)\n",
    "            break\n",
    "\n",
    "\n",
    "cap.release()\n",
    "cv2.destroyAllWindows()"
   ]
  },
  {
   "cell_type": "code",
   "execution_count": 19,
   "metadata": {},
   "outputs": [],
   "source": [
    "import cv2\n",
    "import numpy as np\n",
    "\n",
    "cap=cv2.VideoCapture(0)\n",
    "back=cv2.imread('./capture.jpg')\n",
    "\n",
    "while cap.isOpened():\n",
    "    ret,frame=cap.read()\n",
    "    if ret:\n",
    "#convert the read frame into its hsv form\n",
    "        hsv=cv2.cvtColor(frame, cv2.COLOR_BGR2HSV)\n",
    "       #cv2.imshow(\"hsv\", hsv)\n",
    "       #lower: hue-10,100,100 higher: hue+10,255,255(Red)\n",
    "        red=np.uint8([[[0,0,255]]])\n",
    "        red_hsv=cv2.cvtColor(red, cv2.COLOR_BGR2HSV)\n",
    "        #print(red_hsv)\n",
    "        #threshold the hsv value for red.\n",
    "        l_red=np.array([0,100,100])\n",
    "        u_red=np.array([10,255,255])\n",
    "        mask=cv2.inRange(hsv, l_red, u_red)\n",
    "        #cv2.imshow(\"mask\", mask)\n",
    "        \n",
    "        part1=cv2.bitwise_and(back,back, mask=mask)\n",
    "        #cv2.imshow(\"part1\", part1)\n",
    "        \n",
    "        mask_2=cv2.bitwise_not(mask)\n",
    "        \n",
    "        part2=cv2.bitwise_and(frame, frame, mask=mask_2)\n",
    "        \n",
    "        cv2.imshow(\"cloak\", part1 + part2)\n",
    "        \n",
    "        if cv2.waitKey(5) == ord('q'):\n",
    "            break\n",
    "\n",
    "\n",
    "cap.release()\n",
    "cv2.destroyAllWindows()"
   ]
  },
  {
   "cell_type": "code",
   "execution_count": null,
   "metadata": {},
   "outputs": [],
   "source": [
    "\n"
   ]
  },
  {
   "cell_type": "code",
   "execution_count": null,
   "metadata": {},
   "outputs": [],
   "source": []
  }
 ],
 "metadata": {
  "kernelspec": {
   "display_name": "Python 3",
   "language": "python",
   "name": "python3"
  },
  "language_info": {
   "codemirror_mode": {
    "name": "ipython",
    "version": 3
   },
   "file_extension": ".py",
   "mimetype": "text/x-python",
   "name": "python",
   "nbconvert_exporter": "python",
   "pygments_lexer": "ipython3",
   "version": "3.7.3"
  }
 },
 "nbformat": 4,
 "nbformat_minor": 4
}
